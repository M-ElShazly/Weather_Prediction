{
 "cells": [
  {
   "cell_type": "markdown",
   "id": "4e34659a",
   "metadata": {},
   "source": [
    "# Weather Prediction with Random Forest"
   ]
  },
  {
   "cell_type": "markdown",
   "id": "7564e8cf",
   "metadata": {},
   "source": [
    "import pandas as pd\n",
    "global_temp = pd.read_csv(\"C:/Users/Muhamad/ML_Text_Analytics/Weather_Prediction/GlobalTemp.csv\")\n",
    "print(global_temp.shape)\n",
    "print(global_temp.columns)\n",
    "print(global_temp.info())\n",
    "print(global_temp.isnull().sum())"
   ]
  },
  {
   "cell_type": "code",
   "execution_count": 2,
   "id": "65b5c39a",
   "metadata": {},
   "outputs": [],
   "source": [
    "def converttemp(x):\n",
    "    x = (x * 1.8) + 32\n",
    "    return float(x)"
   ]
  },
  {
   "cell_type": "code",
   "execution_count": 3,
   "id": "109636e9",
   "metadata": {},
   "outputs": [
    {
     "name": "stdout",
     "output_type": "stream",
     "text": [
      "      LandAverageTemperature  LandMaxTemperature  LandMinTemperature  \\\n",
      "Year                                                                   \n",
      "1850                 33.3482             46.8356             26.2292   \n",
      "1850                 37.5278             49.9460             27.8762   \n",
      "1850                 40.9172             50.6246             28.5710   \n",
      "1850                 44.9906             55.2812             33.8324   \n",
      "1850                 50.0072             60.1790             38.8598   \n",
      "1850                 55.6700             66.1028             44.7908   \n",
      "1850                 58.0856             66.6194             46.4252   \n",
      "1850                 57.2702             65.2586             45.3308   \n",
      "1850                 52.7090             60.5228             40.1594   \n",
      "1850                 46.5638             55.7402             35.6234   \n",
      "1850                 40.5194             52.4984             31.7840   \n",
      "1850                 37.0454             45.4874             26.9474   \n",
      "1851                 36.3758             48.1118             27.6026   \n",
      "1851                 36.5144             49.6544             29.2874   \n",
      "1851                 39.5456             52.7126             30.7400   \n",
      "1851                 45.1166             57.6248             36.1958   \n",
      "1851                 52.0034             59.0180             39.4448   \n",
      "1851                 56.1524             63.1184             43.4732   \n",
      "1851                 58.1558             62.7854             45.3650   \n",
      "1851                 56.7518             63.2498             43.8710   \n",
      "\n",
      "      LandAndOceanAverageTemperature  \n",
      "Year                                  \n",
      "1850                         55.0994  \n",
      "1850                         56.4584  \n",
      "1850                         57.2774  \n",
      "1850                         58.4006  \n",
      "1850                         59.9126  \n",
      "1850                         61.4354  \n",
      "1850                         62.2094  \n",
      "1850                         62.0924  \n",
      "1850                         60.5948  \n",
      "1850                         58.6958  \n",
      "1850                         57.0146  \n",
      "1850                         55.9400  \n",
      "1851                         55.8410  \n",
      "1851                         55.9958  \n",
      "1851                         57.0146  \n",
      "1851                         58.3520  \n",
      "1851                         60.3878  \n",
      "1851                         61.6928  \n",
      "1851                         62.2958  \n",
      "1851                         61.9178  \n"
     ]
    }
   ],
   "source": [
    "#Data Preparation\n",
    "def wrangle(df):\n",
    "    df = df.copy()\n",
    "    df = df.drop(columns=[\"LandAverageTemperatureUncertainty\", \"LandMaxTemperatureUncertainty\",\n",
    "                          \"LandMinTemperatureUncertainty\", \"LandAndOceanAverageTemperatureUncertainty\"], axis=1)\n",
    "    df[\"LandAverageTemperature\"] = df[\"LandAverageTemperature\"].apply(converttemp)\n",
    "    df[\"LandMaxTemperature\"] = df[\"LandMaxTemperature\"].apply(converttemp)\n",
    "    df[\"LandMinTemperature\"] = df[\"LandMinTemperature\"].apply(converttemp)\n",
    "    df[\"LandAndOceanAverageTemperature\"] = df[\"LandAndOceanAverageTemperature\"].apply(converttemp)\n",
    "    df[\"dt\"] = pd.to_datetime(df[\"dt\"])\n",
    "    df[\"Month\"] = df[\"dt\"].dt.month\n",
    "    df[\"Year\"] = df[\"dt\"].dt.year\n",
    "    df = df.drop(\"dt\", axis=1)\n",
    "    df = df.drop(\"Month\", axis=1)\n",
    "    df = df.set_index([\"Year\"])\n",
    "    df = df.dropna()\n",
    "    return df\n",
    "global_temp = wrangle(global_temp)\n",
    "print(global_temp.head(20))\n",
    "    "
   ]
  },
  {
   "cell_type": "code",
   "execution_count": 4,
   "id": "542a6d6e",
   "metadata": {},
   "outputs": [
    {
     "name": "stdout",
     "output_type": "stream",
     "text": [
      "(1992, 4)\n",
      "Index(['LandAverageTemperature', 'LandMaxTemperature', 'LandMinTemperature',\n",
      "       'LandAndOceanAverageTemperature'],\n",
      "      dtype='object')\n",
      "<class 'pandas.core.frame.DataFrame'>\n",
      "Int64Index: 1992 entries, 1850 to 2015\n",
      "Data columns (total 4 columns):\n",
      " #   Column                          Non-Null Count  Dtype  \n",
      "---  ------                          --------------  -----  \n",
      " 0   LandAverageTemperature          1992 non-null   float64\n",
      " 1   LandMaxTemperature              1992 non-null   float64\n",
      " 2   LandMinTemperature              1992 non-null   float64\n",
      " 3   LandAndOceanAverageTemperature  1992 non-null   float64\n",
      "dtypes: float64(4)\n",
      "memory usage: 77.8 KB\n",
      "None\n",
      "LandAverageTemperature            0\n",
      "LandMaxTemperature                0\n",
      "LandMinTemperature                0\n",
      "LandAndOceanAverageTemperature    0\n",
      "dtype: int64\n"
     ]
    }
   ],
   "source": [
    "print(global_temp.shape)\n",
    "print(global_temp.columns)\n",
    "print(global_temp.info())\n",
    "print(global_temp.isnull().sum())"
   ]
  },
  {
   "cell_type": "code",
   "execution_count": 5,
   "id": "1ab64879",
   "metadata": {
    "scrolled": false
   },
   "outputs": [
    {
     "data": {
      "image/png": "[encoded data removed]",
      "text/plain": [
       "<Figure size 432x288 with 2 Axes>"
      ]
     },
     "metadata": {
      "needs_background": "light"
     },
     "output_type": "display_data"
    }
   ],
   "source": [
    "import seaborn as sns\n",
    "import matplotlib.pyplot as plt\n",
    "corrMatrix = global_temp.corr()\n",
    "sns.heatmap(corrMatrix, annot=True)\n",
    "plt.show()"
   ]
  },
  {
   "cell_type": "code",
   "execution_count": 6,
   "id": "7c56b92e",
   "metadata": {},
   "outputs": [],
   "source": [
    "target = \"LandAndOceanAverageTemperature\"\n",
    "y = global_temp[target]\n",
    "x = global_temp[[\"LandAverageTemperature\", \"LandMaxTemperature\", \"LandMinTemperature\"]]"
   ]
  },
  {
   "cell_type": "code",
   "execution_count": 7,
   "id": "3237fe26",
   "metadata": {},
   "outputs": [
    {
     "name": "stdout",
     "output_type": "stream",
     "text": [
      "(1494, 3)\n",
      "(498, 3)\n",
      "(1494,)\n",
      "(498,)\n"
     ]
    }
   ],
   "source": [
    "from sklearn.model_selection import train_test_split\n",
    "xtrain, xval, ytrain, yval = train_test_split(x, y, test_size=0.25, random_state=42)\n",
    "print(xtrain.shape)\n",
    "print(xval.shape)\n",
    "print(ytrain.shape)\n",
    "print(yval.shape)"
   ]
  },
  {
   "cell_type": "code",
   "execution_count": 8,
   "id": "e3258c86",
   "metadata": {},
   "outputs": [
    {
     "name": "stdout",
     "output_type": "stream",
     "text": [
      "Baseline MAE:  5.14262\n"
     ]
    }
   ],
   "source": [
    "from sklearn.metrics import mean_squared_error\n",
    "ypred = [yval.mean()] * len(yval)\n",
    "print(\"Baseline MAE: \", round(mean_squared_error(yval, ypred), 5))"
   ]
  },
  {
   "cell_type": "code",
   "execution_count": 20,
   "id": "f0ce407c",
   "metadata": {},
   "outputs": [
    {
     "data": {
      "text/html": [
       "<style>#sk-container-id-2 {color: black;background-color: white;}#sk-container-id-2 pre{padding: 0;}#sk-container-id-2 div.sk-toggleable {background-color: white;}#sk-container-id-2 label.sk-toggleable__label {cursor: pointer;display: block;width: 100%;margin-bottom: 0;padding: 0.3em;box-sizing: border-box;text-align: center;}#sk-container-id-2 label.sk-toggleable__label-arrow:before {content: \"▸\";float: left;margin-right: 0.25em;color: #696969;}#sk-container-id-2 label.sk-toggleable__label-arrow:hover:before {color: black;}#sk-container-id-2 div.sk-estimator:hover label.sk-toggleable__label-arrow:before {color: black;}#sk-container-id-2 div.sk-toggleable__content {max-height: 0;max-width: 0;overflow: hidden;text-align: left;background-color: #f0f8ff;}#sk-container-id-2 div.sk-toggleable__content pre {margin: 0.2em;color: black;border-radius: 0.25em;background-color: #f0f8ff;}#sk-container-id-2 input.sk-toggleable__control:checked~div.sk-toggleable__content {max-height: 200px;max-width: 100%;overflow: auto;}#sk-container-id-2 input.sk-toggleable__control:checked~label.sk-toggleable__label-arrow:before {content: \"▾\";}#sk-container-id-2 div.sk-estimator input.sk-toggleable__control:checked~label.sk-toggleable__label {background-color: #d4ebff;}#sk-container-id-2 div.sk-label input.sk-toggleable__control:checked~label.sk-toggleable__label {background-color: #d4ebff;}#sk-container-id-2 input.sk-hidden--visually {border: 0;clip: rect(1px 1px 1px 1px);clip: rect(1px, 1px, 1px, 1px);height: 1px;margin: -1px;overflow: hidden;padding: 0;position: absolute;width: 1px;}#sk-container-id-2 div.sk-estimator {font-family: monospace;background-color: #f0f8ff;border: 1px dotted black;border-radius: 0.25em;box-sizing: border-box;margin-bottom: 0.5em;}#sk-container-id-2 div.sk-estimator:hover {background-color: #d4ebff;}#sk-container-id-2 div.sk-parallel-item::after {content: \"\";width: 100%;border-bottom: 1px solid gray;flex-grow: 1;}#sk-container-id-2 div.sk-label:hover label.sk-toggleable__label {background-color: #d4ebff;}#sk-container-id-2 div.sk-serial::before {content: \"\";position: absolute;border-left: 1px solid gray;box-sizing: border-box;top: 0;bottom: 0;left: 50%;z-index: 0;}#sk-container-id-2 div.sk-serial {display: flex;flex-direction: column;align-items: center;background-color: white;padding-right: 0.2em;padding-left: 0.2em;position: relative;}#sk-container-id-2 div.sk-item {position: relative;z-index: 1;}#sk-container-id-2 div.sk-parallel {display: flex;align-items: stretch;justify-content: center;background-color: white;position: relative;}#sk-container-id-2 div.sk-item::before, #sk-container-id-2 div.sk-parallel-item::before {content: \"\";position: absolute;border-left: 1px solid gray;box-sizing: border-box;top: 0;bottom: 0;left: 50%;z-index: -1;}#sk-container-id-2 div.sk-parallel-item {display: flex;flex-direction: column;z-index: 1;position: relative;background-color: white;}#sk-container-id-2 div.sk-parallel-item:first-child::after {align-self: flex-end;width: 50%;}#sk-container-id-2 div.sk-parallel-item:last-child::after {align-self: flex-start;width: 50%;}#sk-container-id-2 div.sk-parallel-item:only-child::after {width: 0;}#sk-container-id-2 div.sk-dashed-wrapped {border: 1px dashed gray;margin: 0 0.4em 0.5em 0.4em;box-sizing: border-box;padding-bottom: 0.4em;background-color: white;}#sk-container-id-2 div.sk-label label {font-family: monospace;font-weight: bold;display: inline-block;line-height: 1.2em;}#sk-container-id-2 div.sk-label-container {text-align: center;}#sk-container-id-2 div.sk-container {/* jupyter's `normalize.less` sets `[hidden] { display: none; }` but bootstrap.min.css set `[hidden] { display: none !important; }` so we also need the `!important` here to be able to override the default hidden behavior on the sphinx rendered scikit-learn.org. See: https://github.com/scikit-learn/scikit-learn/issues/21755 */display: inline-block !important;position: relative;}#sk-container-id-2 div.sk-text-repr-fallback {display: none;}</style><div id=\"sk-container-id-2\" class=\"sk-top-container\"><div class=\"sk-text-repr-fallback\"><pre>Pipeline(steps=[(&#x27;selectkbest&#x27;, SelectKBest(k=&#x27;all&#x27;)),\n",
       "                (&#x27;standardscaler&#x27;, StandardScaler()),\n",
       "                (&#x27;randomforestregressor&#x27;,\n",
       "                 RandomForestRegressor(max_depth=50, n_jobs=-1,\n",
       "                                       random_state=77))])</pre><b>In a Jupyter environment, please rerun this cell to show the HTML representation or trust the notebook. <br />On GitHub, the HTML representation is unable to render, please try loading this page with nbviewer.org.</b></div><div class=\"sk-container\" hidden><div class=\"sk-item sk-dashed-wrapped\"><div class=\"sk-label-container\"><div class=\"sk-label sk-toggleable\"><input class=\"sk-toggleable__control sk-hidden--visually\" id=\"sk-estimator-id-5\" type=\"checkbox\" ><label for=\"sk-estimator-id-5\" class=\"sk-toggleable__label sk-toggleable__label-arrow\">Pipeline</label><div class=\"sk-toggleable__content\"><pre>Pipeline(steps=[(&#x27;selectkbest&#x27;, SelectKBest(k=&#x27;all&#x27;)),\n",
       "                (&#x27;standardscaler&#x27;, StandardScaler()),\n",
       "                (&#x27;randomforestregressor&#x27;,\n",
       "                 RandomForestRegressor(max_depth=50, n_jobs=-1,\n",
       "                                       random_state=77))])</pre></div></div></div><div class=\"sk-serial\"><div class=\"sk-item\"><div class=\"sk-estimator sk-toggleable\"><input class=\"sk-toggleable__control sk-hidden--visually\" id=\"sk-estimator-id-6\" type=\"checkbox\" ><label for=\"sk-estimator-id-6\" class=\"sk-toggleable__label sk-toggleable__label-arrow\">SelectKBest</label><div class=\"sk-toggleable__content\"><pre>SelectKBest(k=&#x27;all&#x27;)</pre></div></div></div><div class=\"sk-item\"><div class=\"sk-estimator sk-toggleable\"><input class=\"sk-toggleable__control sk-hidden--visually\" id=\"sk-estimator-id-7\" type=\"checkbox\" ><label for=\"sk-estimator-id-7\" class=\"sk-toggleable__label sk-toggleable__label-arrow\">StandardScaler</label><div class=\"sk-toggleable__content\"><pre>StandardScaler()</pre></div></div></div><div class=\"sk-item\"><div class=\"sk-estimator sk-toggleable\"><input class=\"sk-toggleable__control sk-hidden--visually\" id=\"sk-estimator-id-8\" type=\"checkbox\" ><label for=\"sk-estimator-id-8\" class=\"sk-toggleable__label sk-toggleable__label-arrow\">RandomForestRegressor</label><div class=\"sk-toggleable__content\"><pre>RandomForestRegressor(max_depth=50, n_jobs=-1, random_state=77)</pre></div></div></div></div></div></div></div>"
      ],
      "text/plain": [
       "Pipeline(steps=[('selectkbest', SelectKBest(k='all')),\n",
       "                ('standardscaler', StandardScaler()),\n",
       "                ('randomforestregressor',\n",
       "                 RandomForestRegressor(max_depth=50, n_jobs=-1,\n",
       "                                       random_state=77))])"
      ]
     },
     "execution_count": 20,
     "metadata": {},
     "output_type": "execute_result"
    }
   ],
   "source": [
    "from sklearn.feature_selection import SelectKBest\n",
    "from sklearn.ensemble import RandomForestRegressor\n",
    "from sklearn.pipeline import make_pipeline\n",
    "from sklearn.preprocessing import StandardScaler\n",
    "forest = make_pipeline(\n",
    "    SelectKBest(k=\"all\"),\n",
    "    StandardScaler(),\n",
    "    RandomForestRegressor(\n",
    "        n_estimators=100,\n",
    "        max_depth=50,\n",
    "        random_state=77,\n",
    "        n_jobs=-1\n",
    "    )\n",
    ")\n",
    "forest.fit(xtrain, ytrain)"
   ]
  },
  {
   "cell_type": "code",
   "execution_count": 11,
   "id": "d93925fb",
   "metadata": {},
   "outputs": [
    {
     "name": "stdout",
     "output_type": "stream",
     "text": [
      "Random Forest Model:  96.61 %\n"
     ]
    }
   ],
   "source": [
    "import numpy as np\n",
    "errors = abs(ypred - yval)\n",
    "mape = 100 * (errors/ytrain)\n",
    "accuracy = 100 - np.mean(mape)\n",
    "print(\"Random Forest Model: \", round(accuracy, 2), \"%\")"
   ]
  }
 ],
 "metadata": {
  "kernelspec": {
   "display_name": "Python 3 (ipykernel)",
   "language": "python",
   "name": "python3"
  },
  "language_info": {
   "codemirror_mode": {
    "name": "ipython",
    "version": 3
   },
   "file_extension": ".py",
   "mimetype": "text/x-python",
   "name": "python",
   "nbconvert_exporter": "python",
   "pygments_lexer": "ipython3",
   "version": "3.9.7"
  }
 },
 "nbformat": 4,
 "nbformat_minor": 5
}
